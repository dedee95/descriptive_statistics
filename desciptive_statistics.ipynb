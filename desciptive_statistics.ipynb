{
 "cells": [
  {
   "cell_type": "markdown",
   "metadata": {
    "id": "nuAMfJLWTlHA"
   },
   "source": [
    "## A. Measure of Central Tendency "
   ]
  },
  {
   "cell_type": "markdown",
   "metadata": {
    "id": "fAV2qR4pJgyv"
   },
   "source": [
    "### 1 Mean"
   ]
  },
  {
   "cell_type": "markdown",
   "metadata": {
    "id": "eB0sMd8wJsP1"
   },
   "source": [
    "#### 1.1 Arithmetic Mean"
   ]
  },
  {
   "cell_type": "code",
   "execution_count": 38,
   "metadata": {
    "id": "PijF1S_xx5vx"
   },
   "outputs": [
    {
     "name": "stdout",
     "output_type": "stream",
     "text": [
      "Arithmetic mean = 91\n"
     ]
    }
   ],
   "source": [
    "# import required libraries\n",
    "from statistics import mean\n",
    "\n",
    "# create sample data\n",
    "sample = [90, 100, 88, 95, 99, 75, 82, 87, 100, 85, 100]\n",
    "\n",
    "# calculate the arithmetic mean\n",
    "mean = mean(sample)\n",
    "print(f\"Arithmetic mean = {mean}\")"
   ]
  },
  {
   "cell_type": "markdown",
   "metadata": {
    "id": "JTPI_ImiJwWU"
   },
   "source": [
    "#### 1.2 Geometric mean"
   ]
  },
  {
   "cell_type": "code",
   "execution_count": 37,
   "metadata": {
    "id": "ywPHfuqUx5Tf"
   },
   "outputs": [
    {
     "name": "stdout",
     "output_type": "stream",
     "text": [
      "Geometric mean = 90.62820715628605\n"
     ]
    }
   ],
   "source": [
    "# import required libraries\n",
    "from statistics import geometric_mean\n",
    "\n",
    "# create sample data\n",
    "sample = [90, 100, 88, 95, 99, 75, 82, 87, 100, 85, 100]\n",
    "\n",
    "# calculate the geometric mean\n",
    "gmean = geometric_mean(sample)\n",
    "print(f\"Geometric mean = {gmean}\")"
   ]
  },
  {
   "cell_type": "markdown",
   "metadata": {
    "id": "fUoSgknRKC14"
   },
   "source": [
    "#### 1.3 Harmonic mean"
   ]
  },
  {
   "cell_type": "code",
   "execution_count": 36,
   "metadata": {
    "id": "lKMIEFnmKL8T"
   },
   "outputs": [
    {
     "name": "stdout",
     "output_type": "stream",
     "text": [
      "Harmonic mean = 90.24568265995985\n"
     ]
    }
   ],
   "source": [
    "# import required libraries\n",
    "from statistics import harmonic_mean\n",
    "\n",
    "# create sample data\n",
    "sample = [90, 100, 88, 95, 99, 75, 82, 87, 100, 85, 100]\n",
    "\n",
    "# calculate the harmonic mean\n",
    "hmean = harmonic_mean(sample)\n",
    "print(f\"Harmonic mean = {hmean}\")"
   ]
  },
  {
   "cell_type": "markdown",
   "metadata": {},
   "source": [
    "#### 1.4 Weight mean"
   ]
  },
  {
   "cell_type": "code",
   "execution_count": 1,
   "metadata": {},
   "outputs": [
    {
     "name": "stdout",
     "output_type": "stream",
     "text": [
      "Weighted mean = 87.76\n"
     ]
    }
   ],
   "source": [
    "# create sample data\n",
    "sample = [90, 100, 88, 95, 99, 75, 82, 87, 100, 85, 100]\n",
    "weights = [.2, .1, .3, .2, .2, .4, .3, .3, .1, .3, .1]\n",
    "\n",
    "# calculate the weighted mean\n",
    "weighted_mean = sum(s * w for s,w in zip(sample, weights)) / sum(weights)\n",
    "print(f\"Weighted mean = {weighted_mean}\")"
   ]
  },
  {
   "cell_type": "markdown",
   "metadata": {
    "id": "4ESOcBaVJkh1"
   },
   "source": [
    "### 2 Median"
   ]
  },
  {
   "cell_type": "code",
   "execution_count": 34,
   "metadata": {
    "id": "PLfh5MjXKMjo"
   },
   "outputs": [
    {
     "name": "stdout",
     "output_type": "stream",
     "text": [
      "Median = 90\n"
     ]
    }
   ],
   "source": [
    "# import required libraries\n",
    "from statistics import median\n",
    "\n",
    "# create data\n",
    "sample = [90, 100, 88, 95, 99, 75, 82, 87, 100, 85, 100]\n",
    "\n",
    "# calculate the median\n",
    "median = median(sample)\n",
    "print(f\"Median = {median}\")"
   ]
  },
  {
   "cell_type": "markdown",
   "metadata": {
    "id": "BDpNgelQJptE"
   },
   "source": [
    "### 3 Mode"
   ]
  },
  {
   "cell_type": "code",
   "execution_count": 33,
   "metadata": {
    "id": "5aPHNeUQJfkW"
   },
   "outputs": [
    {
     "name": "stdout",
     "output_type": "stream",
     "text": [
      "Mode = 100\n"
     ]
    }
   ],
   "source": [
    "# import required libraries\n",
    "from statistics import mode\n",
    "\n",
    "# create sample data\n",
    "sample = [90, 100, 88, 95, 99, 75, 82, 87, 100, 85, 100]\n",
    "\n",
    "# calculate the mode\n",
    "mode = mode(sample)\n",
    "print(f\"Mode = {mode}\")"
   ]
  },
  {
   "cell_type": "markdown",
   "metadata": {
    "id": "-XfROi2pKNMo"
   },
   "source": [
    "## B. Measure of Variation"
   ]
  },
  {
   "cell_type": "markdown",
   "metadata": {
    "id": "hNJgrsGYKdLr"
   },
   "source": [
    "### 1 Range"
   ]
  },
  {
   "cell_type": "code",
   "execution_count": 2,
   "metadata": {
    "id": "rpENQqpfKRdX"
   },
   "outputs": [
    {
     "name": "stdout",
     "output_type": "stream",
     "text": [
      "Range = 25\n"
     ]
    }
   ],
   "source": [
    "# create sample data\n",
    "sample = [90, 100, 88, 95, 99, 75, 82, 87, 100, 85, 100]\n",
    "\n",
    "# calculate the range\n",
    "range_ = max(sample) - min(sample)\n",
    "print(f\"Range = {range_}\")"
   ]
  },
  {
   "cell_type": "markdown",
   "metadata": {
    "id": "l5s_o8y9KtjB"
   },
   "source": [
    "### 2 Interquartile Range (IQR)"
   ]
  },
  {
   "cell_type": "code",
   "execution_count": 31,
   "metadata": {
    "id": "65Lh5ChQKzLc"
   },
   "outputs": [
    {
     "name": "stdout",
     "output_type": "stream",
     "text": [
      "IQR = 15.0\n"
     ]
    }
   ],
   "source": [
    "# import required libraries\n",
    "from statistics import quantiles\n",
    "\n",
    "# crerate sample data\n",
    "sample = [90, 100, 88, 95, 99, 75, 82, 87, 100, 85, 100]\n",
    "\n",
    "# calculate the interquartile range\n",
    "quartile = quantiles(sample, n=4) # divide the data into 4 parts\n",
    "iqr = quartile[2] - quartile[0]\n",
    "print(f\"IQR = {iqr}\")"
   ]
  },
  {
   "cell_type": "markdown",
   "metadata": {
    "id": "omxtvw8GKzzP"
   },
   "source": [
    "### 3 Variance"
   ]
  },
  {
   "cell_type": "code",
   "execution_count": 4,
   "metadata": {
    "id": "Y1J8W054K7I-"
   },
   "outputs": [
    {
     "name": "stdout",
     "output_type": "stream",
     "text": [
      "Population variance\t= 65.63636363636364\n",
      "Sample variance\t\t= 72.2\n"
     ]
    }
   ],
   "source": [
    "# import required libraries\n",
    "from statistics import variance, pvariance\n",
    "\n",
    "# create data\n",
    "data = [90, 100, 88, 95, 99, 75, 82, 87, 100, 85, 100]\n",
    "\n",
    "# calculate the variance\n",
    "pvariance = pvariance(data)\n",
    "print(f\"Population variance\\t= {pvariance}\")\n",
    "\n",
    "variance = variance(data)\n",
    "print(f\"Sample variance\\t\\t= {variance}\")"
   ]
  },
  {
   "cell_type": "markdown",
   "metadata": {
    "id": "Jo4iAIMFK72E"
   },
   "source": [
    "### 4 Standard Deviation"
   ]
  },
  {
   "cell_type": "code",
   "execution_count": 6,
   "metadata": {
    "id": "5wiKPLYNK_l_"
   },
   "outputs": [
    {
     "name": "stdout",
     "output_type": "stream",
     "text": [
      "Population standard deviation\t= 8.101627221513196\n",
      "Sample standard deviation\t= 8.497058314499201\n"
     ]
    }
   ],
   "source": [
    "# import required libraries\n",
    "from statistics import pstdev, stdev\n",
    "\n",
    "# create data\n",
    "data = [90, 100, 88, 95, 99, 75, 82, 87, 100, 85, 100]\n",
    "\n",
    "# calculate the standar deviasi\n",
    "pstdev = pstdev(data)\n",
    "print(f\"Population standard deviation\\t= {pstdev}\")\n",
    "\n",
    "stdev = stdev(data)\n",
    "print(f\"Sample standard deviation\\t= {stdev}\")"
   ]
  },
  {
   "cell_type": "markdown",
   "metadata": {
    "id": "Ra1dxk5aLAVO"
   },
   "source": [
    "## C. Measure of Position"
   ]
  },
  {
   "cell_type": "markdown",
   "metadata": {
    "id": "V3ETvdpVLYUs"
   },
   "source": [
    "### 1 Quartile"
   ]
  },
  {
   "cell_type": "code",
   "execution_count": 7,
   "metadata": {
    "id": "HkfP4WX3LFuF"
   },
   "outputs": [
    {
     "name": "stdout",
     "output_type": "stream",
     "text": [
      "Q1 = 85.0\n",
      "Q2 = 90.0\n",
      "Q3 = 100.0\n"
     ]
    }
   ],
   "source": [
    "# import required libraries\n",
    "from statistics import quantiles\n",
    "\n",
    "# create sample data\n",
    "sample = [90, 100, 88, 95, 99, 75, 82, 87, 100, 85, 100]\n",
    "\n",
    "# calculate the quartile\n",
    "quartile = quantiles(sample, n=4) # divide the data into 4 parts\n",
    "print(f\"Q1 = {quartile[0]}\")\n",
    "print(f\"Q2 = {quartile[1]}\")\n",
    "print(f\"Q3 = {quartile[2]}\")"
   ]
  },
  {
   "cell_type": "markdown",
   "metadata": {},
   "source": [
    "### 2 Decile"
   ]
  },
  {
   "cell_type": "code",
   "execution_count": 9,
   "metadata": {},
   "outputs": [
    {
     "name": "stdout",
     "output_type": "stream",
     "text": [
      "3th decile = 86.2\n",
      "5th decile = 90.0\n",
      "9th decile = 100.0\n"
     ]
    }
   ],
   "source": [
    "# import required libraries\n",
    "from statistics import quantiles\n",
    "\n",
    "# crerate sample data\n",
    "sample = [90, 100, 88, 95, 99, 75, 82, 87, 100, 85, 100]\n",
    "\n",
    "# calculate the decile\n",
    "decile = quantiles(sample, n=10) # divide the data into 10 parts\n",
    "print(f\"3th decile = {decile[2]}\")\n",
    "print(f\"5th decile = {decile[4]}\")\n",
    "print(f\"9th decile = {decile[8]}\")"
   ]
  },
  {
   "cell_type": "markdown",
   "metadata": {},
   "source": [
    "### 3 Percentile"
   ]
  },
  {
   "cell_type": "code",
   "execution_count": 10,
   "metadata": {},
   "outputs": [
    {
     "name": "stdout",
     "output_type": "stream",
     "text": [
      "25th percentile = 85.0\n",
      "50th percentile = 90.0\n",
      "95th percentile = 100.0\n"
     ]
    }
   ],
   "source": [
    "# import required libraries\n",
    "from statistics import quantiles\n",
    "\n",
    "# create sample data\n",
    "sample = [90, 100, 88, 95, 99, 75, 82, 87, 100, 85, 100]\n",
    "\n",
    "# calclulate the percentile\n",
    "percentile = quantiles(sample, n=100) # divide the data into 100 parts\n",
    "print(f\"25th percentile = {percentile[24]}\")\n",
    "print(f\"50th percentile = {percentile[49]}\")\n",
    "print(f\"95th percentile = {percentile[94]}\")"
   ]
  },
  {
   "cell_type": "code",
   "execution_count": null,
   "metadata": {},
   "outputs": [],
   "source": []
  }
 ],
 "metadata": {
  "colab": {
   "name": "desciptive statistics",
   "provenance": [],
   "toc_visible": true
  },
  "kernelspec": {
   "display_name": "Python 3 (ipykernel)",
   "language": "python",
   "name": "python3"
  },
  "language_info": {
   "codemirror_mode": {
    "name": "ipython",
    "version": 3
   },
   "file_extension": ".py",
   "mimetype": "text/x-python",
   "name": "python",
   "nbconvert_exporter": "python",
   "pygments_lexer": "ipython3",
   "version": "3.8.8"
  }
 },
 "nbformat": 4,
 "nbformat_minor": 1
}
